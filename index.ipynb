{
  "nbformat": 4,
  "nbformat_minor": 0,
  "metadata": {
    "colab": {
      "provenance": []
    },
    "kernelspec": {
      "name": "python3",
      "display_name": "Python 3"
    },
    "language_info": {
      "name": "python"
    }
  },
  "cells": [
    {
      "cell_type": "markdown",
      "source": [
        "A feladatotok egy olyan rendszer kifejlesztése Python programnyelven, amely intelligensen navigál autonóm anyagmozgató gépeket egy gyár bonyolult hálózatában, optimalizálva az anyagok szállítását a lehető legrövidebb idő alatt. A rendszeretekben a gyár belső hálózata csomópontokból és azokat összekötő élekből áll, ahol minden él megtétele adott időt vesz igénybe.\n",
        "\n",
        "A feladathoz egy Google Colab notebookot használtok, amely tartalmaz egy előre megadott cellát a kód beillesztéséhez. Ez a cella az \"Ide írd a kódodat\" megjegyzéssel van ellátva. A kódodat ezen a helyen kell megírnod. A kódodat szervezheted függvényekbe, de a végrehajtandó fő függvényt, amelynek neve és paraméterei (input_file_path, output_file_path) adottak, ebben a cellában kell elhelyezned.\n",
        "\n",
        "A notebook futtatásával a végén kiírásra kerül a szimuláció ideje. Cél, hogy ez az idő a lehető legkisebb legyen. A feladatok teljesítéséhez szükséges részletes utasításokat és a bemeneti adatok formátumát a Moodle-rendszerben elérhető leírásban találjátok.\n",
        "\n",
        "A megoldásodat egy Jupyter-notebook formájában kell feltöltenetek a Moodle-ba. Ahhoz, hogy **március 20-án** és **március 27-én** megkaphassátok a legjobb eredményekért járó részpontokat, fel kell töltenetek az akkori megoldásotokat.\n",
        "Vagyis a lehető legtöbb pont eléréséhez 3-szor kell feltöltenetek a megoldásotokat, egyszer 20-áig, még egyszer 27-éig, majd végül a leadási határidő napjáig. Két alkalom között tetszőlegesen javíthatjátok vagy újra írhatjátok az algoritmusotokat, de akár ugyanazokat a fájlokat is feltölthetitek.\n",
        "(A Google Colab felületen a bal felső sarokban találjátok a file>>Download>>.ipynb gombot, amivel le tudjátok tölteni a notebookot. Fontos, hogy a letöltöttet küldjétek el, hogy azon távolról már módosítást ne tudjatok végezni.)\n",
        "\n",
        "Ahhoz, hogy tudjátok szerkeszteni ezt a fájlt, saját másolatot kell csinálnotok a **File>>save copy in drive** menüpont segítségével!\n",
        "\n",
        "A notebookban az eredmények kiértékeléséhez használjátok az összes cella futtatását, és figyeljetek arra, hogy a szimulációs idő minél kisebb legyen.\n",
        "\n",
        "Sok sikert!"
      ],
      "metadata": {
        "id": "odrFGfyyiC6v"
      }
    },
    {
      "cell_type": "code",
      "source": [
        "!cd /content\n",
        "!rm -rf assignment-judge"
      ],
      "metadata": {
        "id": "5cGKgr8zWlZz"
      },
      "execution_count": null,
      "outputs": []
    },
    {
      "cell_type": "code",
      "source": [
        "!git clone -b notebook_evaluator https://github.com/fuszti/assignment-judge.git\n",
        "import sys\n",
        "sys.path.append('/content/assignment-judge')"
      ],
      "metadata": {
        "colab": {
          "base_uri": "https://localhost:8080/"
        },
        "id": "kzPG11u-avMK",
        "outputId": "5296099f-024a-4fcd-d8b8-b41bff138d58"
      },
      "execution_count": null,
      "outputs": [
        {
          "output_type": "stream",
          "name": "stdout",
          "text": [
            "Cloning into 'assignment-judge'...\n",
            "remote: Enumerating objects: 361, done.\u001b[K\n",
            "remote: Counting objects:   0% (1/361)\u001b[K\rremote: Counting objects:   1% (4/361)\u001b[K\rremote: Counting objects:   2% (8/361)\u001b[K\rremote: Counting objects:   3% (11/361)\u001b[K\rremote: Counting objects:   4% (15/361)\u001b[K\rremote: Counting objects:   5% (19/361)\u001b[K\rremote: Counting objects:   6% (22/361)\u001b[K\rremote: Counting objects:   7% (26/361)\u001b[K\rremote: Counting objects:   8% (29/361)\u001b[K\rremote: Counting objects:   9% (33/361)\u001b[K\rremote: Counting objects:  10% (37/361)\u001b[K\rremote: Counting objects:  11% (40/361)\u001b[K\rremote: Counting objects:  12% (44/361)\u001b[K\rremote: Counting objects:  13% (47/361)\u001b[K\rremote: Counting objects:  14% (51/361)\u001b[K\rremote: Counting objects:  15% (55/361)\u001b[K\rremote: Counting objects:  16% (58/361)\u001b[K\rremote: Counting objects:  17% (62/361)\u001b[K\rremote: Counting objects:  18% (65/361)\u001b[K\rremote: Counting objects:  19% (69/361)\u001b[K\rremote: Counting objects:  20% (73/361)\u001b[K\rremote: Counting objects:  21% (76/361)\u001b[K\rremote: Counting objects:  22% (80/361)\u001b[K\rremote: Counting objects:  23% (84/361)\u001b[K\rremote: Counting objects:  24% (87/361)\u001b[K\rremote: Counting objects:  25% (91/361)\u001b[K\rremote: Counting objects:  26% (94/361)\u001b[K\rremote: Counting objects:  27% (98/361)\u001b[K\rremote: Counting objects:  28% (102/361)\u001b[K\rremote: Counting objects:  29% (105/361)\u001b[K\rremote: Counting objects:  30% (109/361)\u001b[K\rremote: Counting objects:  31% (112/361)\u001b[K\rremote: Counting objects:  32% (116/361)\u001b[K\rremote: Counting objects:  33% (120/361)\u001b[K\rremote: Counting objects:  34% (123/361)\u001b[K\rremote: Counting objects:  35% (127/361)\u001b[K\rremote: Counting objects:  36% (130/361)\u001b[K\rremote: Counting objects:  37% (134/361)\u001b[K\rremote: Counting objects:  38% (138/361)\u001b[K\rremote: Counting objects:  39% (141/361)\u001b[K\rremote: Counting objects:  40% (145/361)\u001b[K\rremote: Counting objects:  41% (149/361)\u001b[K\rremote: Counting objects:  42% (152/361)\u001b[K\rremote: Counting objects:  43% (156/361)\u001b[K\rremote: Counting objects:  44% (159/361)\u001b[K\rremote: Counting objects:  45% (163/361)\u001b[K\rremote: Counting objects:  46% (167/361)\u001b[K\rremote: Counting objects:  47% (170/361)\u001b[K\rremote: Counting objects:  48% (174/361)\u001b[K\rremote: Counting objects:  49% (177/361)\u001b[K\rremote: Counting objects:  50% (181/361)\u001b[K\rremote: Counting objects:  51% (185/361)\u001b[K\rremote: Counting objects:  52% (188/361)\u001b[K\rremote: Counting objects:  53% (192/361)\u001b[K\rremote: Counting objects:  54% (195/361)\u001b[K\rremote: Counting objects:  55% (199/361)\u001b[K\rremote: Counting objects:  56% (203/361)\u001b[K\rremote: Counting objects:  57% (206/361)\u001b[K\rremote: Counting objects:  58% (210/361)\u001b[K\rremote: Counting objects:  59% (213/361)\u001b[K\rremote: Counting objects:  60% (217/361)\u001b[K\rremote: Counting objects:  61% (221/361)\u001b[K\rremote: Counting objects:  62% (224/361)\u001b[K\rremote: Counting objects:  63% (228/361)\u001b[K\rremote: Counting objects:  64% (232/361)\u001b[K\rremote: Counting objects:  65% (235/361)\u001b[K\rremote: Counting objects:  66% (239/361)\u001b[K\rremote: Counting objects:  67% (242/361)\u001b[K\rremote: Counting objects:  68% (246/361)\u001b[K\rremote: Counting objects:  69% (250/361)\u001b[K\rremote: Counting objects:  70% (253/361)\u001b[K\rremote: Counting objects:  71% (257/361)\u001b[K\rremote: Counting objects:  72% (260/361)\u001b[K\rremote: Counting objects:  73% (264/361)\u001b[K\rremote: Counting objects:  74% (268/361)\u001b[K\rremote: Counting objects:  75% (271/361)\u001b[K\rremote: Counting objects:  76% (275/361)\u001b[K\rremote: Counting objects:  77% (278/361)\u001b[K\rremote: Counting objects:  78% (282/361)\u001b[K\rremote: Counting objects:  79% (286/361)\u001b[K\rremote: Counting objects:  80% (289/361)\u001b[K\rremote: Counting objects:  81% (293/361)\u001b[K\rremote: Counting objects:  82% (297/361)\u001b[K\rremote: Counting objects:  83% (300/361)\u001b[K\rremote: Counting objects:  84% (304/361)\u001b[K\rremote: Counting objects:  85% (307/361)\u001b[K\rremote: Counting objects:  86% (311/361)\u001b[K\rremote: Counting objects:  87% (315/361)\u001b[K\rremote: Counting objects:  88% (318/361)\u001b[K\rremote: Counting objects:  89% (322/361)\u001b[K\rremote: Counting objects:  90% (325/361)\u001b[K\rremote: Counting objects:  91% (329/361)\u001b[K\rremote: Counting objects:  92% (333/361)\u001b[K\rremote: Counting objects:  93% (336/361)\u001b[K\rremote: Counting objects:  94% (340/361)\u001b[K\rremote: Counting objects:  95% (343/361)\u001b[K\rremote: Counting objects:  96% (347/361)\u001b[K\rremote: Counting objects:  97% (351/361)\u001b[K\rremote: Counting objects:  98% (354/361)\u001b[K\rremote: Counting objects:  99% (358/361)\u001b[K\rremote: Counting objects: 100% (361/361)\u001b[K\rremote: Counting objects: 100% (361/361), done.\u001b[K\n",
            "remote: Compressing objects: 100% (222/222), done.\u001b[K\n",
            "remote: Total 361 (delta 142), reused 327 (delta 111), pack-reused 0\u001b[K\n",
            "Receiving objects: 100% (361/361), 9.66 MiB | 18.15 MiB/s, done.\n",
            "Resolving deltas: 100% (142/142), done.\n"
          ]
        }
      ]
    },
    {
      "cell_type": "code",
      "source": [
        "from problem.algorithm_runner import run_algorithm_on_dataset\n",
        "from problem.evaluator import evaluate_dataset\n",
        "PUBLIC_DATASET = \"/content/assignment-judge/data/public_dataset\"\n",
        "OUTPUT_FOLDER = \"/content/output\""
      ],
      "metadata": {
        "id": "dmArsT_wZK8Q"
      },
      "execution_count": null,
      "outputs": []
    },
    {
      "cell_type": "code",
      "source": [
        "def algorithm(input_file_path, output_file_path):\n",
        "    # Ide írjátok a kódotokat\n",
        "    pass"
      ],
      "metadata": {
        "id": "cgLINkboW_FQ"
      },
      "execution_count": null,
      "outputs": []
    },
    {
      "cell_type": "code",
      "source": [
        "run_algorithm_on_dataset(algorithm, PUBLIC_DATASET, OUTPUT_FOLDER)"
      ],
      "metadata": {
        "colab": {
          "base_uri": "https://localhost:8080/"
        },
        "id": "NVNYz7ffXymM",
        "outputId": "387340ea-1a0a-4177-ad37-abdd0f71c7eb"
      },
      "execution_count": null,
      "outputs": [
        {
          "output_type": "stream",
          "name": "stderr",
          "text": [
            "Running your algorithm on the dataset: 100%|██████████| 69/69 [01:46<00:00,  1.55s/it]\n"
          ]
        }
      ]
    },
    {
      "cell_type": "code",
      "source": [
        "score = evaluate_dataset(PUBLIC_DATASET, OUTPUT_FOLDER)\n",
        "print(f\"\\nA teljesítési idő (szimulációs lépésben mérve) {score}.\")"
      ],
      "metadata": {
        "colab": {
          "base_uri": "https://localhost:8080/"
        },
        "id": "aGAhHwH5YuTL",
        "outputId": "efe0f0cc-fdb0-4a4c-fb7b-a824a221c219"
      },
      "execution_count": null,
      "outputs": [
        {
          "output_type": "stream",
          "name": "stderr",
          "text": [
            "Evaluating: 100%|██████████| 69/69 [01:07<00:00,  1.03it/s]"
          ]
        },
        {
          "output_type": "stream",
          "name": "stdout",
          "text": [
            "\n",
            "A teljesítési idő (szimulációs lépésben mérve) 61190.0.\n"
          ]
        },
        {
          "output_type": "stream",
          "name": "stderr",
          "text": [
            "\n"
          ]
        }
      ]
    },
    {
      "cell_type": "code",
      "source": [],
      "metadata": {
        "id": "-QddQhHlcFlL"
      },
      "execution_count": null,
      "outputs": []
    }
  ]
}
